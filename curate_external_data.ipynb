{
 "cells": [
  {
   "cell_type": "markdown",
   "id": "9e3823ba-1c6f-4b87-849a-8ca8bdc68e5d",
   "metadata": {
    "id": "9e3823ba-1c6f-4b87-849a-8ca8bdc68e5d",
    "tags": []
   },
   "source": [
    "| <div> <img src=\"https://storage.googleapis.com/open-ff-common/openFF_logo.png\" width=\"100\"/></div>|      |<h1>Build and curate external data sets</h1>|\n",
    "|---|---|---|"
   ]
  },
  {
   "cell_type": "markdown",
   "id": "6351c983-a181-4439-b37a-518e48ed22be",
   "metadata": {},
   "source": [
    "The primary mission of the Open-FF project is to facilitate easy access and big-picture overviews of the chemical data in the FracFocus.org disclosure instrument.  That mission relies both on the FracFocus data and on external data sets that clarify and provide perspective to the FracFocus data.\n",
    "\n",
    "This notebook outlines these external data sets and how they are acquired, reformated (if necessary) and made available in Open-FF. "
   ]
  },
  {
   "cell_type": "code",
   "execution_count": null,
   "id": "af0fd3b5-cdf7-4f5f-9310-0447845d2dbe",
   "metadata": {
    "id": "af0fd3b5-cdf7-4f5f-9310-0447845d2dbe"
   },
   "outputs": [],
   "source": [
    "!git clone https://github.com/gwallison/intg_support.git &>/dev/null;\n",
    "!pip install itables  &>/dev/null;\n",
    "!pip install geopandas  &>/dev/null;"
   ]
  },
  {
   "cell_type": "code",
   "execution_count": null,
   "id": "d9e3136e-29a8-4c02-8863-739c4f1336cb",
   "metadata": {
    "id": "d9e3136e-29a8-4c02-8863-739c4f1336cb"
   },
   "outputs": [],
   "source": [
    "# %run intg_support/local_frack_steps.py"
   ]
  },
  {
   "cell_type": "markdown",
   "id": "1fc7469d-b62a-40c5-9e2d-75845620b5b1",
   "metadata": {
    "id": "1fc7469d-b62a-40c5-9e2d-75845620b5b1",
    "tags": []
   },
   "source": [
    "## This notebook is used to curate that data sets<br> that are used in conjuction with Open-FF\n",
    "\n",
    "**Data sets**\n",
    "- Census state and county shapefiles\n",
    "- EPA lists harvested from CompTox, meta\n",
    "- TSCA UVCB list\n",
    "- California's Prop 65 list\n",
    "- USGS PADUS 3.0\n",
    "- State provided location data\n",
    "- TEDX EDC data\n",
    "- EPA's diesel list\n",
    "- Reportable quantities list\n",
    "- TSCA list\n",
    "- NPDWR list\n",
    "- DHS list of schools,day cares and nursing homes\n",
    "- SciFinder and Comptox name and synonym data\n",
    "- SkyTruth scrape data\n",
    "- FFV1 scrape data\n",
    "- NM state-held disclosures\n",
    "- OH drilling data\n",
    "\n",
    "**Possibles**\n",
    "EPA's EJscreen\n",
    "Well-scale production numbers\n",
    "EDF's database\n",
    "shapefile for geologic \"plays\""
   ]
  },
  {
   "cell_type": "markdown",
   "id": "bf0b01c7-2468-4b58-9026-18842b8202d4",
   "metadata": {},
   "source": [
    "# Location data"
   ]
  },
  {
   "cell_type": "markdown",
   "id": "6114841d-c252-4734-b47d-c5eb8f14d89c",
   "metadata": {},
   "source": [
    "## State and county boundaries\n",
    "We use these to check on the consistency of the lat/lon recorded with the embedded county/state identification of the API number\n",
    "\n",
    "Source"
   ]
  },
  {
   "cell_type": "markdown",
   "id": "e2beb4b2-a625-4dea-a729-2560cd4b02a0",
   "metadata": {},
   "source": [
    "# Chemistry data"
   ]
  },
  {
   "cell_type": "markdown",
   "id": "010f3dbb-0078-4bba-9325-f4ffd2221f39",
   "metadata": {},
   "source": [
    "## California's Proposition 65 list of chemicals\n",
    "\n",
    "Source: https://oehha.ca.gov/proposition-65/proposition-65-list\n",
    "Most recent version downloaded: "
   ]
  },
  {
   "cell_type": "code",
   "execution_count": null,
   "id": "70bd446d-bddc-411c-9e23-a0535e2d1841",
   "metadata": {},
   "outputs": [],
   "source": []
  }
 ],
 "metadata": {
  "colab": {
   "provenance": []
  },
  "kernelspec": {
   "display_name": "Python 3 (ipykernel)",
   "language": "python",
   "name": "python3"
  },
  "language_info": {
   "codemirror_mode": {
    "name": "ipython",
    "version": 3
   },
   "file_extension": ".py",
   "mimetype": "text/x-python",
   "name": "python",
   "nbconvert_exporter": "python",
   "pygments_lexer": "ipython3",
   "version": "3.10.8"
  },
  "toc-autonumbering": false
 },
 "nbformat": 4,
 "nbformat_minor": 5
}
