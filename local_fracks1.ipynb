{
 "cells": [
  {
   "cell_type": "markdown",
   "id": "9e3823ba-1c6f-4b87-849a-8ca8bdc68e5d",
   "metadata": {
    "id": "9e3823ba-1c6f-4b87-849a-8ca8bdc68e5d",
    "tags": []
   },
   "source": [
    "| <div> <img src=\"https://storage.googleapis.com/open-ff-common/openFF_logo.png\" width=\"100\"/></div>|      |<h1>Local fracking summary</h1>|\n",
    "|---|---|---|"
   ]
  },
  {
   "cell_type": "code",
   "execution_count": null,
   "id": "af0fd3b5-cdf7-4f5f-9310-0447845d2dbe",
   "metadata": {
    "id": "af0fd3b5-cdf7-4f5f-9310-0447845d2dbe"
   },
   "outputs": [],
   "source": [
    "!git clone https://github.com/gwallison/intg_support.git &>/dev/null;\n",
    "!pip install itables  &>/dev/null;\n",
    "!pip install geopandas  &>/dev/null;"
   ]
  },
  {
   "cell_type": "code",
   "execution_count": null,
   "id": "d9e3136e-29a8-4c02-8863-739c4f1336cb",
   "metadata": {
    "id": "d9e3136e-29a8-4c02-8863-739c4f1336cb"
   },
   "outputs": [],
   "source": [
    "%run intg_support/local_frack_steps.py"
   ]
  },
  {
   "cell_type": "markdown",
   "id": "1fc7469d-b62a-40c5-9e2d-75845620b5b1",
   "metadata": {
    "id": "1fc7469d-b62a-40c5-9e2d-75845620b5b1",
    "tags": []
   },
   "source": [
    "# Set up\n",
    "Construct a workspace and collect the resources needed."
   ]
  },
  {
   "cell_type": "markdown",
   "id": "e757b0e7-dcad-4016-976a-820aa7a5ad84",
   "metadata": {
    "id": "e757b0e7-dcad-4016-976a-820aa7a5ad84",
    "tags": []
   },
   "source": [
    "## Create directories and fetch previous repository as a reference\n",
    "Before we start our analysis, we set up a working directory structure and collect the resources we need."
   ]
  },
  {
   "cell_type": "markdown",
   "id": "28a3d2c5-f66f-4613-9909-f33130ae18e4",
   "metadata": {
    "id": "28a3d2c5-f66f-4613-9909-f33130ae18e4",
    "jp-MarkdownHeadingCollapsed": true,
    "tags": []
   },
   "source": [
    "**Directories constructed**\n",
    "| directory name | description |\n",
    "| ---: | :--- |\n",
    "|**orig_dir**| expanded zip files |\n",
    "|**work_dir**| This is the working directory where new curation files created by these routines are kept. These 'generated' files are saved into a final report.|\n",
    "|**ext**| non-FracFocus data files needed for the analysis |\n",
    "|**final**| the place for final files, archives and reports. |"
   ]
  },
  {
   "cell_type": "code",
   "execution_count": null,
   "id": "29128ef1-33b5-4f2a-bf46-98bcbc32d6b7",
   "metadata": {
    "id": "29128ef1-33b5-4f2a-bf46-98bcbc32d6b7"
   },
   "outputs": [],
   "source": [
    "# Control download: typically set to True\n",
    "#    set to False if you can skip the downloading part of the repo and the external data, for example, during testing.\n",
    "\n",
    "download_repo_flag = False\n",
    "#download_ext_flag = False\n",
    "unpack_to_orig_flag = False\n",
    "\n"
   ]
  },
  {
   "cell_type": "code",
   "execution_count": null,
   "id": "4d28d1d7-6123-45d6-bcbb-91378203672b",
   "metadata": {
    "colab": {
     "base_uri": "https://localhost:8080/",
     "height": 327
    },
    "id": "4d28d1d7-6123-45d6-bcbb-91378203672b",
    "outputId": "34821dab-4cd7-4ad1-a47a-5aab206bf05f"
   },
   "outputs": [],
   "source": [
    "create_and_fill_folders(download_repo_flag,unpack_to_orig_flag)"
   ]
  },
  {
   "cell_type": "markdown",
   "id": "d996c830-b6b5-43e5-b9d8-0dec6d803364",
   "metadata": {
    "id": "d996c830-b6b5-43e5-b9d8-0dec6d803364"
   },
   "source": [
    "## Download external files used to assemble final data set"
   ]
  },
  {
   "cell_type": "code",
   "execution_count": null,
   "id": "860db2a3-5e5e-4f63-945e-9e15d1d04183",
   "metadata": {
    "id": "860db2a3-5e5e-4f63-945e-9e15d1d04183"
   },
   "outputs": [],
   "source": [
    "\n",
    "#get_external_files(download_ext_flag)"
   ]
  },
  {
   "cell_type": "markdown",
   "id": "fffab8c2-bb20-4f9d-b2b9-8e2de7c2e306",
   "metadata": {},
   "source": [
    "# Where do you want to look?"
   ]
  },
  {
   "cell_type": "code",
   "execution_count": null,
   "id": "9de2f427-5a9f-4ade-9299-8c8392b2beb4",
   "metadata": {},
   "outputs": [],
   "source": [
    "lat = 32.6967627558117; lon = -97.18214065821618  # test location\n",
    "lat = 31.62049482630234; lon = -102.21593260383503\n",
    "lat = 39.8313970034219; lon = -80.91392628688207"
   ]
  },
  {
   "cell_type": "markdown",
   "id": "8a2b69a9-7efb-49a6-93c6-e178adebee59",
   "metadata": {},
   "source": [
    "### Find school of interest"
   ]
  },
  {
   "cell_type": "code",
   "execution_count": null,
   "id": "d0ef3ef5-bb82-4499-8dc3-cc77b4733391",
   "metadata": {},
   "outputs": [],
   "source": [
    "sch_df = pd.read_csv('https://storage.googleapis.com/gwa-test/all_states_school_hits.csv')\n",
    "gb1 = sch_df.groupby(['bgStateName','school_name'],as_index=False)['api10'].count()\n",
    "gb1 = gb1.reset_index(drop=True)\n",
    "gb1['school_index'] = gb1.index.astype(int)\n",
    "gb1"
   ]
  },
  {
   "cell_type": "code",
   "execution_count": null,
   "id": "fa2ff790-fd5f-43b1-94af-d8a307b8cca4",
   "metadata": {},
   "outputs": [],
   "source": [
    "index = 350\n",
    "name = gb1[gb1.school_index==index].school_name.tolist()[0]\n",
    "t = sch_df[sch_df.school_name==name]\n",
    "lat = t.sc_lat.iloc[0]; lon = t.sc_lon.iloc[0]"
   ]
  },
  {
   "cell_type": "code",
   "execution_count": null,
   "id": "07a3fb12-6825-43c5-a11e-b8854b523a60",
   "metadata": {},
   "outputs": [],
   "source": [
    "import intg_support.geo_tools as gt\n",
    "df = get_df(os.path.join(orig_dir,'full_df.parquet'),\n",
    "            cols=['UploadKey','APINumber','bgOperatorName','bgSupplier','api10',\n",
    "                  'date','bgCAS','epa_pref_name','calcMass','bgLatitude','bgLongitude'])"
   ]
  },
  {
   "cell_type": "code",
   "execution_count": null,
   "id": "114d9850-070e-473d-aff2-cf2ceae20abd",
   "metadata": {},
   "outputs": [],
   "source": [
    "wells = gt.make_as_well_gdf(df)\n",
    "apis = gt.find_wells_near_point(lat,lon,wells)\n",
    "print(apis)\n",
    "gt.showWells(df,lat,lon,apis)"
   ]
  },
  {
   "cell_type": "code",
   "execution_count": null,
   "id": "9b8a78e2-a38a-498d-ae7d-5af3bceadb28",
   "metadata": {},
   "outputs": [],
   "source": []
  }
 ],
 "metadata": {
  "colab": {
   "provenance": []
  },
  "kernelspec": {
   "display_name": "Python 3 (ipykernel)",
   "language": "python",
   "name": "python3"
  },
  "language_info": {
   "codemirror_mode": {
    "name": "ipython",
    "version": 3
   },
   "file_extension": ".py",
   "mimetype": "text/x-python",
   "name": "python",
   "nbconvert_exporter": "python",
   "pygments_lexer": "ipython3",
   "version": "3.10.8"
  },
  "toc-autonumbering": false
 },
 "nbformat": 4,
 "nbformat_minor": 5
}
