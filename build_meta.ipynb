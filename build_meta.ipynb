{
 "cells": [
  {
   "cell_type": "code",
   "execution_count": null,
   "id": "96d4cbfb-46be-4aa7-8add-1a238c220cc6",
   "metadata": {},
   "outputs": [],
   "source": [
    "import os, shutil\n",
    "import pandas as pd\n",
    "from IPython.display import HTML, display\n",
    "from IPython.display import Markdown as md\n",
    "import requests\n",
    "\n",
    "# itables allow interactive tables but also require downloading html to view\n",
    "use_itables = True\n",
    "\n",
    "if use_itables:\n",
    "    from itables import init_notebook_mode\n",
    "    init_notebook_mode(all_interactive=True)\n",
    "    from itables import show as iShow\n",
    "    import itables.options as opt\n",
    "else:\n",
    "    def iShow(df,maxBytes=0,classes=None):\n",
    "        display(df)\n"
   ]
  },
  {
   "cell_type": "markdown",
   "id": "25ee65f2-e4bc-41ae-80bb-49685edcbd46",
   "metadata": {},
   "source": [
    "# make a meta file\n",
    "\n",
    "\n"
   ]
  },
  {
   "cell_type": "code",
   "execution_count": null,
   "id": "c012ffc0-9cf8-4c24-b424-0bfb67107f93",
   "metadata": {},
   "outputs": [],
   "source": [
    "import core.Meta_data_reader as mdr\n",
    "fn = \"ff_archive_2018-09-15.zip\"\n",
    "rm = mdr.Read_Meta(fn,outdir='./tmp',\n",
    "                   working=r\"C:\\MyDocs\\OpenFF\\data\\archive\")\n",
    "out = rm.import_raw()\n",
    "out = out.filter(['APINumber', 'CountyName', 'CountyNumber', \n",
    "                  'JobEndDate', 'JobStartDate', 'Latitude','Longitude', 'OperatorName', 'Projection',\n",
    "                  'StateName','StateNumber', 'TVD', 'TotalBaseNonWaterVolume', 'TotalBaseWaterVolume',\n",
    "                  'WellName', 'pKey'],axis=1)\n",
    "out.tail()\n"
   ]
  },
  {
   "cell_type": "code",
   "execution_count": null,
   "id": "fe8854bb-88b3-4788-9673-df3590400373",
   "metadata": {},
   "outputs": [],
   "source": [
    "import core.Meta_data_reader as mdr\n",
    "\n",
    "rm = mdr.Read_Meta(fn,outdir='./tmp',\n",
    "                   working=r\"C:\\MyDocs\\OpenFF\\data\\archive\")\n",
    "out = rm.compile_from_set()\n",
    "out.to_csv('./tmp/meta.csv')\n",
    "# iShow(out,maxBytes=0,classes=\"display compact cell-border\")"
   ]
  },
  {
   "cell_type": "code",
   "execution_count": null,
   "id": "0516caeb-c3d6-4f73-8c6c-9742e0a3b816",
   "metadata": {},
   "outputs": [],
   "source": [
    "# #  There is something weird happening at 2021-06-13.  about 30,000 disclosures \"change\" even\n",
    "# #  though there seems to be no printable difference.  Non-printable character added? \n",
    "# #  These changes persist in subsequent zip files.\n",
    "\n",
    "# # c1 = out.first_sited=='2021-06-13'\n",
    "# c2 = out.first_sited<='2021-06-13'\n",
    "\n",
    "# pk = out[c2].pKey.unique().tolist()\n",
    "# t = out[out.pKey.isin(pk)]\n",
    "# # iShow(t,maxBytes=0,classes=\"display compact cell-border\")"
   ]
  },
  {
   "cell_type": "code",
   "execution_count": null,
   "id": "c2eec034-972e-4ab5-859e-9da660426a4b",
   "metadata": {},
   "outputs": [],
   "source": [
    "# def asord(a,b):\n",
    "#     diffs = ''\n",
    "#     print(len(a), len(b))\n",
    "#     for i in range(min(len(a),len(b))):\n",
    "#         if a[i]!=b[i]:\n",
    "#             diffs+='^'\n",
    "#         else:\n",
    "#             diffs+=' '\n",
    "#     print(diffs)\n",
    "    \n",
    "# pk = out[out.first_sited=='2021-06-13'].pKey.unique().tolist()\n",
    "# # for col in list(t.columns):\n",
    "# for col in ['OperatorName']: #list(t.columns):\n",
    "#     cntr = 0\n",
    "#     total = 0\n",
    "#     for p in pk[1000:1040]:\n",
    "#         total +=1\n",
    "#         tmp = out[out.pKey==p]\n",
    "#         if len(tmp)>1:\n",
    "#             if tmp[col].iloc[0] != tmp[col].iloc[1]:\n",
    "#                 print(f'{tmp[col].iloc[0]}\\n{tmp[col].iloc[1]}\\n')\n",
    "#                 asord(tmp[col].iloc[0],tmp[col].iloc[1])\n",
    "#                 cntr +=1\n",
    "#     print(f'{col} {cntr} out of {total}')   \n"
   ]
  },
  {
   "cell_type": "code",
   "execution_count": null,
   "id": "598877a9-ad14-4e59-8280-46dbcdc0d56f",
   "metadata": {},
   "outputs": [],
   "source": [
    "# def asord(s):\n",
    "#     return ord(s)\n",
    "# dp = t[t.pKey.duplicated(keep=False)].copy()\n",
    "# dp['lenpk'] = dp.pKey.str.len()\n",
    "# dp['ord'] = dp.pKey.str[8].map(lambda x: asord(x))\n",
    "# dp.ord.value_counts()\n",
    "# dp.pKey.duplicated(keep=False).sum()\n"
   ]
  }
 ],
 "metadata": {
  "kernelspec": {
   "display_name": "Python 3 (ipykernel)",
   "language": "python",
   "name": "python3"
  },
  "language_info": {
   "codemirror_mode": {
    "name": "ipython",
    "version": 3
   },
   "file_extension": ".py",
   "mimetype": "text/x-python",
   "name": "python",
   "nbconvert_exporter": "python",
   "pygments_lexer": "ipython3",
   "version": "3.10.8"
  }
 },
 "nbformat": 4,
 "nbformat_minor": 5
}
